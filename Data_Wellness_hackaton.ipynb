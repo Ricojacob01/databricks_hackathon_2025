{
 "cells": [
  {
   "cell_type": "markdown",
   "metadata": {
    "application/vnd.databricks.v1+cell": {
     "cellMetadata": {},
     "inputWidgets": {},
     "nuid": "68935021-307a-4be4-94d8-80287d685476",
     "showTitle": false,
     "tableResultSettingsMap": {},
     "title": ""
    }
   },
   "source": [
    "## Data Prep\n"
   ]
  },
  {
   "cell_type": "code",
   "execution_count": 0,
   "metadata": {
    "application/vnd.databricks.v1+cell": {
     "cellMetadata": {
      "byteLimit": 2048000,
      "implicitDf": true,
      "rowLimit": 10000
     },
     "inputWidgets": {},
     "nuid": "cccf6a5a-2c57-4433-86df-7dcb92283253",
     "showTitle": false,
     "tableResultSettingsMap": {},
     "title": ""
    }
   },
   "outputs": [],
   "source": [
    "df = spark.table(\"wellness_data.mimilabs.landscape_special_needs_plan\")"
   ]
  },
  {
   "cell_type": "code",
   "execution_count": 0,
   "metadata": {
    "application/vnd.databricks.v1+cell": {
     "cellMetadata": {
      "byteLimit": 2048000,
      "rowLimit": 10000
     },
     "inputWidgets": {},
     "nuid": "545206b9-2b2c-40ab-8473-ac4d64277e40",
     "showTitle": false,
     "tableResultSettingsMap": {},
     "title": ""
    }
   },
   "outputs": [],
   "source": [
    "df.write.saveAsTable(\"wellness_data.mimilabs.starrating_measure_star\")"
   ]
  },
  {
   "cell_type": "code",
   "execution_count": 0,
   "metadata": {
    "application/vnd.databricks.v1+cell": {
     "cellMetadata": {
      "byteLimit": 2048000,
      "rowLimit": 10000
     },
     "inputWidgets": {},
     "nuid": "d2eb693d-edd9-405c-ba25-45d5c04b2e6f",
     "showTitle": false,
     "tableResultSettingsMap": {},
     "title": ""
    }
   },
   "outputs": [],
   "source": [
    "df = spark.table(\"wellness_data.mimilabs.starrating_measure_star\")\n",
    "df.write.saveAsTable(\"wellness.starrating_measure_star\")"
   ]
  },
  {
   "cell_type": "markdown",
   "metadata": {
    "application/vnd.databricks.v1+cell": {
     "cellMetadata": {},
     "inputWidgets": {},
     "nuid": "a82d8e0f-eb6c-4546-aaf5-d2cefffc84bd",
     "showTitle": false,
     "tableResultSettingsMap": {},
     "title": ""
    }
   },
   "source": [
    "## Fuctions to use"
   ]
  },
  {
   "cell_type": "code",
   "execution_count": 0,
   "metadata": {
    "application/vnd.databricks.v1+cell": {
     "cellMetadata": {},
     "inputWidgets": {},
     "nuid": "dbc5d72a-73d4-43af-932c-c39ed9c37045",
     "showTitle": true,
     "tableResultSettingsMap": {},
     "title": "List plans by state and plan type sql Copy code"
    }
   },
   "outputs": [],
   "source": [
    "%sql\n",
    "CREATE OR REPLACE FUNCTION workspace.wellness.plans_by_state_and_type(\n",
    "  state_code STRING COMMENT 'Two-letter state code',\n",
    "  plan_type STRING COMMENT 'Plan type (e.g., Dual-Eligible)'\n",
    ")\n",
    "RETURNS STRING\n",
    "COMMENT \"Returns list of plan names and IDs in a state by plan type\"\n",
    "RETURN\n",
    "  SELECT COLLECT_LIST(CONCAT(\n",
    "    'Plan Name: ', plan_name, ', ',\n",
    "    'Plan ID: ', plan_id\n",
    "  ))\n",
    "  FROM workspace.wellness.landscape_special_needs_plan\n",
    "  WHERE state = state_code\n",
    "    AND special_needs_plan_type = plan_type;\n"
   ]
  },
  {
   "cell_type": "code",
   "execution_count": 0,
   "metadata": {
    "application/vnd.databricks.v1+cell": {
     "cellMetadata": {},
     "inputWidgets": {},
     "nuid": "15b84e8d-ad46-4cf3-96f4-02d234db30d4",
     "showTitle": true,
     "tableResultSettingsMap": {},
     "title": "6. List top-rated plans by state sql Copy code"
    }
   },
   "outputs": [],
   "source": [
    "%sql\n",
    "CREATE OR REPLACE FUNCTION workspace.wellness.top_rated_plans_by_state(\n",
    "  state_code STRING COMMENT 'Two-letter state code'\n",
    ")\n",
    "RETURNS STRING\n",
    "COMMENT \"Returns top 5 plans by average star rating in the given state\"\n",
    "RETURN\n",
    "  SELECT COLLECT_LIST(CONCAT(\n",
    "    'Plan Name: ', p.plan_name, ', ',\n",
    "    'Average Rating: ', CAST(AVG(s.measure_value) AS STRING)\n",
    "  ))\n",
    "  FROM workspace.wellness.landscape_special_needs_plan p\n",
    "  JOIN wellness_data.mimilabs.starrating_measure_star s ON p.contract_id = s.contract_id\n",
    "  WHERE p.state = state_code\n",
    "  GROUP BY p.plan_name\n",
    "  ORDER BY AVG(s.measure_value) DESC\n",
    "  LIMIT 5;\n"
   ]
  },
  {
   "cell_type": "code",
   "execution_count": 0,
   "metadata": {
    "application/vnd.databricks.v1+cell": {
     "cellMetadata": {},
     "inputWidgets": {},
     "nuid": "8bb56b10-add0-49dd-a690-4035a9a5fa0d",
     "showTitle": false,
     "tableResultSettingsMap": {},
     "title": ""
    }
   },
   "outputs": [],
   "source": [
    "%sql\n",
    "CREATE OR REPLACE FUNCTION workspace.wellness.contracts_by_year(\n",
    "  year INT COMMENT 'Performance year'\n",
    ")\n",
    "RETURNS STRING\n",
    "COMMENT \"Returns list of contracts and their organization types for a given performance year\"\n",
    "RETURN\n",
    "  SELECT COLLECT_LIST(CONCAT(\n",
    "    'Contract Name: ', contract_name, ', ',\n",
    "    'Organization Type: ', organization_type, ', ',\n",
    "    'Contract ID: ', contract_id\n",
    "  ))\n",
    "  FROM wellness_data.mimilabs.starrating_measure_star\n",
    "  WHERE performance_year = year;\n"
   ]
  },
  {
   "cell_type": "code",
   "execution_count": 0,
   "metadata": {
    "application/vnd.databricks.v1+cell": {
     "cellMetadata": {},
     "inputWidgets": {},
     "nuid": "9f4043ed-906d-4181-adfd-4eb3e5a93784",
     "showTitle": false,
     "tableResultSettingsMap": {},
     "title": ""
    }
   },
   "outputs": [],
   "source": [
    "%sql\n",
    "CREATE OR REPLACE FUNCTION workspace.wellness.lookup_measures_by_org(\n",
    "  org_name STRING COMMENT 'Marketing name of the organization'\n",
    ")\n",
    "RETURNS STRING\n",
    "COMMENT \"Returns list of performance measures for the given organization\"\n",
    "RETURN\n",
    "  SELECT COLLECT_LIST(CONCAT(\n",
    "    'Measure Code: ', measure_code, ', ',\n",
    "    'Measure Description: ', measure_desc, ', ',\n",
    "    'Value: ', measure_value_raw, ', ',\n",
    "    'Performance Year: ', CAST(performance_year AS STRING)\n",
    "  ))\n",
    "  FROM wellness_data.mimilabs.starrating_measure_star\n",
    "  WHERE organization_marketing_name = org_name;\n"
   ]
  },
  {
   "cell_type": "code",
   "execution_count": 0,
   "metadata": {
    "application/vnd.databricks.v1+cell": {
     "cellMetadata": {
      "byteLimit": 2048000,
      "implicitDf": true,
      "rowLimit": 10000
     },
     "inputWidgets": {},
     "nuid": "fb451a8c-5467-44fd-a870-6f2db72baf8d",
     "showTitle": false,
     "tableResultSettingsMap": {},
     "title": ""
    }
   },
   "outputs": [],
   "source": [
    "%sql\n",
    "CREATE OR REPLACE FUNCTION workspace.wellness.health_plan_look_up(\n",
    "  plan_type STRING COMMENT 'type of the plan whose plan types to look up'\n",
    ")\n",
    "RETURNS STRING\n",
    "COMMENT \"Returns list of plans about a plan typle given the type of plan \"\n",
    "RETURN SELECT COLLECT_LIST(CONCAT(\n",
    "    'Plan_Name: ', plan_name, ', ',\n",
    "    'Plan_ID: ', plan_id, ', ',\n",
    "    'plan_type ', special_needs_plan_type, ', '\n",
    "  ))\n",
    "  FROM workspace.wellness.landscape_special_needs_plan\n",
    "  WHERE special_needs_plan_type = plan_type;"
   ]
  },
  {
   "cell_type": "code",
   "execution_count": 0,
   "metadata": {
    "application/vnd.databricks.v1+cell": {
     "cellMetadata": {
      "byteLimit": 2048000,
      "implicitDf": true,
      "rowLimit": 10000
     },
     "inputWidgets": {},
     "nuid": "46fb1bbf-e3e4-4b96-a2b3-ce62f8cff676",
     "showTitle": false,
     "tableResultSettingsMap": {},
     "title": ""
    }
   },
   "outputs": [],
   "source": [
    "%sql\n",
    "CREATE OR REPLACE FUNCTION workspace.wellness.health_plan_look_up_county(\n",
    "  plan_name STRING COMMENT 'type of the plan whose plan to look up'\n",
    ")\n",
    "RETURNS STRING\n",
    "COMMENT \"Returns list of plans about a plan given the county of plan \"\n",
    "RETURN SELECT COLLECT_LIST(CONCAT(\n",
    "    'Plan_Name: ', plan_name, ', ',\n",
    "    'plan_country', county, ', '\n",
    "  ))\n",
    "  FROM workspace.wellness.landscape_special_needs_plan\n",
    "  WHERE county = plan_name;"
   ]
  },
  {
   "cell_type": "code",
   "execution_count": 0,
   "metadata": {
    "application/vnd.databricks.v1+cell": {
     "cellMetadata": {
      "byteLimit": 2048000,
      "implicitDf": true,
      "rowLimit": 10000
     },
     "inputWidgets": {},
     "nuid": "bdeab465-27f0-4a3d-8743-46252d3e50d0",
     "showTitle": false,
     "tableResultSettingsMap": {},
     "title": ""
    }
   },
   "outputs": [],
   "source": [
    "%sql\n",
    "CREATE OR REPLACE FUNCTION workspace.wellness.health_plan_look_up_starr(\n",
    "  star_rating STRING COMMENT 'type of the rating whose plan to look up'\n",
    ")\n",
    "RETURNS STRING\n",
    "COMMENT \"Returns list of plans about a plan given the rating of plan \"\n",
    "RETURN SELECT COLLECT_LIST(CONCAT(\n",
    "    'Plan_Name: ', plan_name, ', ',\n",
    "    'plan_rating', overall_star_rating, ', '\n",
    "  ))\n",
    "  FROM workspace.wellness.landscape_special_needs_plan\n",
    "  WHERE overall_star_rating = star_rating;"
   ]
  },
  {
   "cell_type": "code",
   "execution_count": 0,
   "metadata": {
    "application/vnd.databricks.v1+cell": {
     "cellMetadata": {
      "byteLimit": 2048000,
      "implicitDf": true,
      "rowLimit": 10000
     },
     "inputWidgets": {},
     "nuid": "7cdff40f-77e2-464b-8457-d42979787c1b",
     "showTitle": false,
     "tableResultSettingsMap": {},
     "title": ""
    }
   },
   "outputs": [],
   "source": [
    "%sql\n",
    "CREATE OR REPLACE FUNCTION workspace.wellness.health_plan_look_up_organization(\n",
    "  special_needs_type STRING COMMENT 'type of the special_needs_type whose organization to look up'\n",
    ")\n",
    "RETURNS STRING\n",
    "COMMENT \"Returns list of organizations about a plan type given the type of plan \"\n",
    "RETURN SELECT COLLECT_LIST(CONCAT(\n",
    "    'Organziation: ', organization_name, ', ',\n",
    "    'plan_type', special_needs_plan_type, ', '\n",
    "  ))\n",
    "  FROM workspace.wellness.landscape_special_needs_plan\n",
    "  WHERE organization_name = special_needs_type;"
   ]
  }
 ],
 "metadata": {
  "application/vnd.databricks.v1+notebook": {
   "computePreferences": null,
   "dashboards": [],
   "environmentMetadata": {
    "base_environment": "",
    "environment_version": "2"
   },
   "inputWidgetPreferences": null,
   "language": "python",
   "notebookMetadata": {
    "mostRecentlyExecutedCommandWithImplicitDF": {
     "commandId": 5392326814346084,
     "dataframes": [
      "_sqldf"
     ]
    },
    "pythonIndentUnit": 4
   },
   "notebookName": "Data_Wellness_hackaton",
   "widgets": {}
  },
  "language_info": {
   "name": "python"
  }
 },
 "nbformat": 4,
 "nbformat_minor": 0
}